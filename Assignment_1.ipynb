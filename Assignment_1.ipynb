{
  "cells": [
    {
      "cell_type": "markdown",
      "metadata": {
        "id": "FECp14-d_F2e"
      },
      "source": [
        "# Set up"
      ]
    },
    {
      "cell_type": "code",
      "execution_count": 18,
      "metadata": {
        "colab": {
          "base_uri": "https://localhost:8080/"
        },
        "id": "za-DgcYB_IQx",
        "outputId": "575160cb-cf01-4cff-8d37-8a8908a70c86"
      },
      "outputs": [
        {
          "name": "stderr",
          "output_type": "stream",
          "text": [
            "fatal: destination path '2025_assignment_1' already exists and is not an empty directory.\n",
            "'mv' is not recognized as an internal or external command,\n",
            "operable program or batch file.\n",
            "'rm' is not recognized as an internal or external command,\n",
            "operable program or batch file.\n"
          ]
        }
      ],
      "source": [
        "!git clone https://github.com/NLP-Reichman/2025_assignment_1.git\n",
        "!mv 2025_assignment_1/data data\n",
        "!rm 2025_assignment_1/ -r"
      ]
    },
    {
      "cell_type": "markdown",
      "metadata": {
        "id": "0i2bOXTB8Dvc"
      },
      "source": [
        "# Introduction\n",
        "In this assignment you will be creating tools for learning and testing language models. The corpora that you will be working with are lists of tweets in 8 different languages that use the Latin script. The data is provided either formatted as CSV or as JSON, for your convenience. The end goal is to write a set of tools that can detect the language of a given tweet.\n",
        "The relevant files are under the data folder:\n",
        "\n",
        "- en.csv (or the equivalent JSON file)\n",
        "- es.csv (or the equivalent JSON file)\n",
        "- fr.csv (or the equivalent JSON file)\n",
        "- in.csv (or the equivalent JSON file)\n",
        "- it.csv (or the equivalent JSON file)\n",
        "- nl.csv (or the equivalent JSON file)\n",
        "- pt.csv (or the equivalent JSON file)\n",
        "- tl.csv (or the equivalent JSON file)"
      ]
    },
    {
      "cell_type": "code",
      "execution_count": 19,
      "metadata": {
        "id": "1u1qR7iaq_GU"
      },
      "outputs": [],
      "source": [
        "import os\n",
        "import json\n",
        "#from google.colab import files\n",
        "\n",
        "import pandas as pd\n",
        "import numpy as np\n",
        "from itertools import product"
      ]
    },
    {
      "cell_type": "markdown",
      "metadata": {
        "id": "IHN0tWTurwkN"
      },
      "source": [
        "# Implementation"
      ]
    },
    {
      "cell_type": "markdown",
      "metadata": {
        "id": "i56aKA0K8adr"
      },
      "source": [
        "## Part 1\n",
        "Implement the function *preprocess* that iterates over all the data files and creates a single vocabulary, containing all the tokens in the data. Our token definition is a single UTF-8 encoded character. So, the vocabulary list is a simple Python list of all the characters that you see at least once in the data. The vocabulary should include the `<start>` and  `<end>` tokens.\n",
        "\n",
        "Note - do NOT lowecase the sentences."
      ]
    },
    {
      "cell_type": "code",
      "execution_count": 20,
      "metadata": {
        "id": "ws_5u7vRrg0o"
      },
      "outputs": [],
      "source": [
        "def preprocess() -> list[str]:\n",
        "  '''\n",
        "  Return a list of characters, representing the shared vocabulary of all languages\n",
        "  '''\n",
        "  vocab = []\n",
        "  ########################################\n",
        "  \n",
        "  vocab_set = set()\n",
        "  for file in os.listdir('data'):\n",
        "    if file.endswith('.json'):\n",
        "      with open(os.path.join('data', file), 'r') as f:\n",
        "        data = pd.read_json(f)\n",
        "        text = data[\"tweet_text\"]\n",
        "        for tweet in text:\n",
        "          for char in tweet:\n",
        "            if char not in vocab_set:\n",
        "              vocab_set.add(char)\n",
        "              vocab.append(char)\n",
        "  vocab.append(\"<start>\")\n",
        "  vocab.append(\"<end>\")\n",
        "\n",
        "  ########################################\n",
        "  return vocab"
      ]
    },
    {
      "cell_type": "code",
      "execution_count": 21,
      "metadata": {
        "colab": {
          "base_uri": "https://localhost:8080/"
        },
        "id": "-1jcvg0jtMjF",
        "outputId": "b05d8228-f84f-40fc-be2f-9be57ff3ead9"
      },
      "outputs": [
        {
          "name": "stdout",
          "output_type": "stream",
          "text": [
            "vocab length: 1804\n",
            "Some characters in the vocab: ['R', 'T', ' ', '@', 'O', 'N', 'H', 'E', 'P', 'l']\n"
          ]
        }
      ],
      "source": [
        "vocab = preprocess()\n",
        "print(f\"vocab length: {len(vocab)}\")\n",
        "print(f\"Some characters in the vocab: {vocab[:10]}\")"
      ]
    },
    {
      "cell_type": "markdown",
      "metadata": {
        "id": "tpjtwHW08jyH"
      },
      "source": [
        "## Part 2\n",
        "Implement the function *build_lm* that generates a language model from a textual corpus. The function should return a dictionary (representing a model) where the keys are all the relevant *n*-1 sequences, and the values are dictionaries with the *n*_th tokens and their corresponding probabilities to occur. To ensure consistent probabilities calculation, please add n-1 `<start>` tokens to the beginning of a tweet and one `<end>` token at the end. For example, for a trigram model (tokens are characters), it should look something like:\n",
        "\n",
        "{ \"ab\":{\"c\":0.5, \"b\":0.25, \"d\":0.25}, \"ca\":{\"a\":0.2, \"b\":0.7, \"d\":0.1} }\n",
        "\n",
        "which means for example that after the sequence \"ab\", there is a 0.5 chance that \"c\" will appear, 0.25 for \"b\" to appear and 0.25 for \"d\" to appear.\n",
        "\n",
        "Note - You should think how to add the add_one smoothing information to the dictionary and implement it.\n",
        "\n",
        "Please add the `<unk>` token with $p(<unk>)=1|V|$ to the LM if building a smoothed LM."
      ]
    },
    {
      "cell_type": "code",
      "execution_count": 22,
      "metadata": {
        "id": "uySEXdEUrkq_"
      },
      "outputs": [],
      "source": [
        "def build_lm(lang: str, n: int, smoothed: bool = False) -> dict[str, dict[str, float]]:\n",
        "  '''\n",
        "  Return a language model for the given lang and n_gram (n)\n",
        "  :param lang: the language of the model\n",
        "  :param n: the n_gram value\n",
        "  :param smoothed: boolean indicating whether to apply smoothing\n",
        "  :return: a dictionary where the keys are n_grams and the values are dictionaries\n",
        "  '''\n",
        "  LM = {}\n",
        "  ########################################\n",
        "  tweets = []\n",
        "  for file in os.listdir('data'):\n",
        "    if file.startswith(lang) and file.endswith('.json'):\n",
        "      with open(os.path.join('data', file), 'r') as f:\n",
        "        data = pd.read_json(f)\n",
        "        tweets.extend(data[\"tweet_text\"].tolist())\n",
        "  \n",
        "  # Initialize the language model\n",
        "  for tweet in tweets:\n",
        "    # Add start tokens and end token\n",
        "    processed_tweet = [\"<start>\"] * (n-1) + list(tweet) + [\"<end>\"] * n\n",
        "    \n",
        "    for i in range(len(processed_tweet) - n + 1):\n",
        "      prefix = ''.join(processed_tweet[i:i+n-1])\n",
        "      next_char = processed_tweet[i+n-1]\n",
        "      LM.setdefault(prefix , {})\n",
        "\n",
        "      LM[prefix][next_char] = LM[prefix].get(next_char , 0) + 1\n",
        "  \n",
        "  # Apply add-one smoothing if required\n",
        "  if smoothed:\n",
        "    vocab = preprocess()\n",
        "    vocab_size = len(vocab)\n",
        "    \n",
        "    for prefix , counts in LM.items():\n",
        "      total_count = sum(counts.values())\n",
        "      \n",
        "      for next_char in list(counts.keys()):\n",
        "        counts[next_char] = (counts[next_char] + 1) / (total_count + vocab_size)\n",
        "      \n",
        "      # Add the unknown token\n",
        "      counts[\"<unk>\"] = 1 / (total_count + vocab_size)\n",
        "  else:\n",
        "    # Convert counts to probabilities without smoothing\n",
        "    for counts in LM.values():\n",
        "      total_count = sum(counts.values())\n",
        "      for next_char in counts:\n",
        "        counts[next_char] = counts[next_char] / total_count\n",
        "        \n",
        "  ########################################\n",
        "  return LM"
      ]
    },
    {
      "cell_type": "code",
      "execution_count": 23,
      "metadata": {
        "colab": {
          "base_uri": "https://localhost:8080/"
        },
        "id": "d9mqbEhBttmm",
        "outputId": "df92d141-999d-42c9-8c12-e6d5e51f7d81"
      },
      "outputs": [
        {
          "name": "stdout",
          "output_type": "stream",
          "text": [
            "English Language Model with 3-gram is of length: 8474\n"
          ]
        }
      ],
      "source": [
        "LM = build_lm(\"en\", 3, False)\n",
        "print(f\"English Language Model with 3-gram is of length: {len(LM)}\")"
      ]
    },
    {
      "cell_type": "markdown",
      "metadata": {
        "id": "xwZnk7Ke8rW5"
      },
      "source": [
        "## Part 3\n",
        "Implement the function *eval* that returns the perplexity of a model (dictionary) running over the data file of the given target language.\n",
        "\n",
        "The `<unk>` should be used for unknown contexts when calculating the perplexities."
      ]
    },
    {
      "cell_type": "code",
      "execution_count": 24,
      "metadata": {
        "id": "y9w8u411uJeq"
      },
      "outputs": [],
      "source": [
        "def perplexity(model: dict, text: list, n) -> float:\n",
        "  '''\n",
        "  Calculates the perplexity of the given string using the given language model.\n",
        "  :param model: The language model\n",
        "  :param text: The tokenized text to calculate the perplexity for\n",
        "  :param n: The n-gram of the model\n",
        "  :return: The perplexity\n",
        "  '''\n",
        "  \n",
        "  \n",
        "  pp = 0\n",
        "  # Add start and end tokens\n",
        "  processed_text = [\"<start>\"] * (n-1) + list(text) + [\"<end>\"]\n",
        "  N = len(processed_text)\n",
        "  log_sum = 0\n",
        "\n",
        "  for i in range(n-1, N):\n",
        "    if n > 1:\n",
        "      context = ''.join(processed_text[i-(n-1):i])\n",
        "    else:\n",
        "      context = ''\n",
        "\n",
        "    char = processed_text[i]\n",
        "    \n",
        "    if context in model:\n",
        "      # TOTO: check this\n",
        "      prob = model[context].get(char, model[context].get(\"<unk>\", 1/len(model[context])))\n",
        "    else:\n",
        "      prob = 1 / max(len(model) , 1)\n",
        "    log_sum += np.log2(prob)\n",
        "  \n",
        "  # Calculate perplexity\n",
        "  pp = 2 ** (-log_sum / (N - (n - 1)))\n",
        "  \n",
        "  \n",
        "  return pp"
      ]
    },
    {
      "cell_type": "code",
      "execution_count": 25,
      "metadata": {
        "id": "ef-EglxXrmk2"
      },
      "outputs": [],
      "source": [
        "def eval(model: dict, target_lang: str, n: int) -> float:\n",
        "  '''\n",
        "  Return the perplexity value calculated over applying the model on the text file\n",
        "  of the target_lang language.\n",
        "  :param model: the language model\n",
        "  :param target_lang: the target language\n",
        "  :param n: The n-gram of the model\n",
        "  :return: the perplexity value\n",
        "  '''\n",
        "  pp = 0\n",
        "  ########################################\n",
        "  # Read the test file for the target language\n",
        "  text = []\n",
        "  for file in os.listdir('data'):\n",
        "    if file == target_lang + '.json':\n",
        "      with open(os.path.join('data', file), 'r') as f:\n",
        "        data = pd.read_json(f)\n",
        "        text = data[\"tweet_text\"]\n",
        "        break\n",
        "  # Calculate perplexity using the provided model and n-gram value  \n",
        "  for tweet in text:\n",
        "    pp += perplexity(model, tweet, n)\n",
        "  pp /= len(text)\n",
        "  ########################################\n",
        "  return pp\n"
      ]
    },
    {
      "cell_type": "code",
      "execution_count": 26,
      "metadata": {
        "id": "AIdDFvinBVhx"
      },
      "outputs": [],
      "source": [
        "LM = build_lm(\"en\", 3, True)"
      ]
    },
    {
      "cell_type": "code",
      "execution_count": 27,
      "metadata": {
        "colab": {
          "base_uri": "https://localhost:8080/"
        },
        "id": "1WUouhkBuWJu",
        "outputId": "75967c86-5b00-480a-8ffd-574122f7a452"
      },
      "outputs": [
        {
          "name": "stdout",
          "output_type": "stream",
          "text": [
            "Perplexity of the English 3-gram model on datasets:\n",
            "On English:  31.62\n",
            "On French:  70.39\n",
            "On Dutch:  80.12\n",
            "On Tagalog:  93.02\n"
          ]
        }
      ],
      "source": [
        "print(\"Perplexity of the English 3-gram model on datasets:\")\n",
        "print(f\"On English: {eval(LM, 'en', 3): .2f}\")\n",
        "print(f\"On French: {eval(LM, 'fr', 3): .2f}\")\n",
        "print(f\"On Dutch: {eval(LM, 'nl', 3): .2f}\")\n",
        "print(f\"On Tagalog: {eval(LM, 'tl', 3): .2f}\")\n"
      ]
    },
    {
      "cell_type": "code",
      "execution_count": 28,
      "metadata": {
        "colab": {
          "base_uri": "https://localhost:8080/"
        },
        "id": "5XP3ZIpLqB6r",
        "outputId": "3378ada3-42c1-42fb-88eb-8eeec458d0cd"
      },
      "outputs": [
        {
          "name": "stdout",
          "output_type": "stream",
          "text": [
            "Perplexity on different n-gram models on English\n",
            "On 1-gram:  42.73\n",
            "On 2-gram:  23.00\n",
            "On 3-gram:  31.62\n",
            "On 4-gram:  73.45\n"
          ]
        }
      ],
      "source": [
        "lm1 = build_lm(\"en\", 1, True)\n",
        "lm2 = build_lm(\"en\", 2, True)\n",
        "lm3 = build_lm(\"en\", 3, True)\n",
        "lm4 = build_lm(\"en\", 4, True)\n",
        "\n",
        "print(\"Perplexity on different n-gram models on English\")\n",
        "print(f\"On 1-gram: {eval(lm1, 'en', 1): .2f}\")\n",
        "print(f\"On 2-gram: {eval(lm2, 'en', 2): .2f}\")\n",
        "print(f\"On 3-gram: {eval(lm3, 'en', 3): .2f}\")\n",
        "print(f\"On 4-gram: {eval(lm4, 'en', 4): .2f}\")"
      ]
    },
    {
      "cell_type": "markdown",
      "metadata": {
        "id": "9ZYVc7hB84LP"
      },
      "source": [
        "## Part 4\n",
        "Implement the *match* function that calls *eval* using a specific value of *n* for every possible language pair among the languages we have data for. You should call *eval* for every language pair four times, with each call assign a different value for *n* (1-4). Each language pair is composed of the source language and the target language. Before you make the call, you need to call the *lm* function to create the language model for the source language. Then you can call *eval* with the language model and the target language. The function should return a pandas DataFrame with the following four columns: *source_lang*, *target_lang*, *n*, *perplexity*. The values for the first two columns are the two-letter language codes. The value for *n* is the *n* you use for generating the specific perplexity values which you should store in the forth column."
      ]
    },
    {
      "cell_type": "code",
      "execution_count": 29,
      "metadata": {
        "id": "tMczigsHuadi"
      },
      "outputs": [],
      "source": [
        "languages = ['en', 'es', 'fr', 'in', 'it', 'nl', 'pt', 'tl']"
      ]
    },
    {
      "cell_type": "code",
      "execution_count": 30,
      "metadata": {
        "id": "16ew9aZWroPC"
      },
      "outputs": [],
      "source": [
        "def match() -> pd.DataFrame:\n",
        "    df = pd.DataFrame(columns=['source_lang', 'target_lang', 'n', 'perplexity'])\n",
        "    n_values = [1, 2, 3, 4]\n",
        "    results = []\n",
        "\n",
        "    for source_lang in languages:\n",
        "        for target_lang in languages:\n",
        "            for n in n_values:\n",
        "                model = build_lm(source_lang, n, smoothed=True)\n",
        "                pp = eval(model, target_lang, n)\n",
        "                results.append({\n",
        "                    'source_lang' : source_lang ,\n",
        "                    'target_lang' : target_lang ,\n",
        "                    'n' : n ,\n",
        "                    'perplexity' : pp\n",
        "                })\n",
        "    df = pd.DataFrame(results)\n",
        "    return df"
      ]
    },
    {
      "cell_type": "markdown",
      "metadata": {
        "id": "pAQoR0dH9C3T"
      },
      "source": [
        "## Part 5\n",
        "Implement the *generate* function which takes a language code, *n*, the prompt (the starting text), the number of tokens to generate, and *r*, which is the random seed for any randomized action you plan to take in your implementation. The function should start generating tokens, one by one, using the language model of the given source language and *n*. The prompt should be used as a starting point for aligning on the probabilities to be used for generating the next token.\n",
        "\n",
        "Note - The generation of the next token should be from the LM's distribution with NO smoothing."
      ]
    },
    {
      "cell_type": "code",
      "execution_count": 31,
      "metadata": {
        "id": "CpCm24-RrpuA"
      },
      "outputs": [],
      "source": [
        "def generate(lang: str, n: int, prompt: str, number_of_tokens: int, r: int) -> str:\n",
        "  '''\n",
        "  Generate text in the given language using the given parameters.\n",
        "  :param lang: the language of the model\n",
        "  :param n: the n_gram value\n",
        "  :param prompt: the prompt to start the generation\n",
        "  :param number_of_tokens: the number of tokens to generate\n",
        "  :param r: the random seed to use\n",
        "  '''\n",
        "  text = \"\"\n",
        "  ########################################\n",
        "  # set seed\n",
        "  model = build_lm(lang, n, smoothed=False)\n",
        "  np.random.seed(r)\n",
        "  text = prompt\n",
        "  \n",
        "  for i in range(number_of_tokens):\n",
        "    print(\"text:\", text)\n",
        "    context = text[-n:]\n",
        "    print(\"context:\", context)\n",
        "\n",
        "    if context not in model :\n",
        "      break\n",
        "    \n",
        "    options = list(model.get(context).keys())\n",
        "    probs = list(model.get(context).values())\n",
        "      \n",
        "    print(\"options:\", options)\n",
        "    print(\"probs:\", probs)\n",
        "    \n",
        "    next_char = np.random.choice(options, p=probs)\n",
        "    text += next_char\n",
        "\n",
        "  ########################################\n",
        "  return text"
      ]
    },
    {
      "cell_type": "markdown",
      "metadata": {
        "id": "eUWX8Ugu9INH"
      },
      "source": [
        "## Part 6\n",
        "Play with your generate function, try to generate different texts in different language and various values of *n*. No need to submit anything of that."
      ]
    },
    {
      "cell_type": "code",
      "execution_count": 32,
      "metadata": {
        "colab": {
          "base_uri": "https://localhost:8080/"
        },
        "id": "0ykbMBzG9LWn",
        "outputId": "c9613bb9-9d55-48dd-d2bf-f79435ab6d84"
      },
      "outputs": [
        {
          "name": "stdout",
          "output_type": "stream",
          "text": [
            "text: I am\n",
            "context: m\n",
            "I am\n",
            "text: I am\n",
            "context: am\n",
            "I am\n",
            "text: I am\n",
            "context:  am\n",
            "I am\n",
            "text: I am \n",
            "context:  am \n",
            "I am \n",
            "text: Soy\n",
            "context: oy\n",
            "Soy\n",
            "text: Soy\n",
            "context: Soy\n",
            "Soy\n",
            "text: Je suis\n",
            "context: is\n",
            "Je suis\n",
            "text: Je suis\n",
            "context: uis\n",
            "Je suis\n"
          ]
        }
      ],
      "source": [
        "print(generate('en', 1, \"I am\", 10, 5))\n",
        "print(generate('en', 2, \"I am\", 10, 5))\n",
        "print(generate('en', 3, \"I am\", 10, 5))\n",
        "print(generate('en', 4, \"I am \", 10, 5))\n",
        "print(generate('es', 2, \"Soy\", 10, 5))\n",
        "print(generate('es', 3, \"Soy\", 10, 5))\n",
        "print(generate('fr', 2, \"Je suis\", 10, 5))\n",
        "print(generate('fr', 3, \"Je suis\", 10, 5))"
      ]
    },
    {
      "cell_type": "markdown",
      "metadata": {
        "id": "q2jNlDISr9aL"
      },
      "source": [
        "# Testing"
      ]
    },
    {
      "cell_type": "markdown",
      "metadata": {
        "id": "uv48OCT_sIYW"
      },
      "source": [
        "Copy the content of the **tests.py** file from the repo and paste below. This will create the results.json file and download it to your machine."
      ]
    },
    {
      "cell_type": "code",
      "execution_count": 16,
      "metadata": {
        "colab": {
          "base_uri": "https://localhost:8080/",
          "height": 17
        },
        "id": "JZTlc2ieruqq",
        "outputId": "772800de-c13a-4bd2-f22e-734b012da84f"
      },
      "outputs": [
        {
          "name": "stdout",
          "output_type": "stream",
          "text": [
            "text: I am\n",
            "context: am\n",
            "text: I am\n",
            "context:  am\n",
            "text: I Love\n",
            "context: Love\n",
            "text: Soy\n",
            "context: oy\n",
            "text: Soy\n",
            "context: Soy\n",
            "text: Je suis\n",
            "context: is\n",
            "text: Je suis\n",
            "context: uis\n"
          ]
        }
      ],
      "source": [
        "########################################\n",
        "# PLACE TESTS HERE #\n",
        "# Create tests\n",
        "def test_preprocess():\n",
        "    return {\n",
        "        'vocab_length': len(preprocess()),\n",
        "    }\n",
        "\n",
        "def test_build_lm():\n",
        "    return {\n",
        "        'english_2_gram_length': len(build_lm('en', 2, True)),\n",
        "        'english_3_gram_length': len(build_lm('en', 3, True)),\n",
        "        'french_3_gram_length': len(build_lm('fr', 3, True)),\n",
        "        'spanish_3_gram_length': len(build_lm('es', 3, True)),\n",
        "    }\n",
        "\n",
        "def test_eval():\n",
        "    lm = build_lm('en', 3, True)\n",
        "    return {\n",
        "        'en_on_en': round(eval(lm, 'en', 3), 2),\n",
        "        'en_on_fr': round(eval(lm, 'fr', 3), 2),\n",
        "        'en_on_tl': round(eval(lm, 'tl', 3), 2),\n",
        "        'en_on_nl': round(eval(lm, 'nl', 3), 2),\n",
        "    }\n",
        "\n",
        "def test_match():\n",
        "    df = match()\n",
        "    return {\n",
        "        'df_shape': df.shape,\n",
        "        'en_en_3': df[(df['source'] == 'en') & (df['target'] == 'en') & (df['n'] == 3)]['perplexity'].values[0],\n",
        "        'en_tl_3': df[(df['source'] == 'en') & (df['target'] == 'tl') & (df['n'] == 3)]['perplexity'].values[0],\n",
        "        'en_nl_3': df[(df['source'] == 'en') & (df['target'] == 'nl') & (df['n'] == 3)]['perplexity'].values[0],\n",
        "    }\n",
        "\n",
        "def test_generate():\n",
        "    return {\n",
        "        'english_2_gram': generate('en', 2, \"I am\", 20, 5),\n",
        "        'english_3_gram': generate('en', 3, \"I am\", 20, 5),\n",
        "        'english_4_gram': generate('en', 4, \"I Love\", 20, 5),\n",
        "        'spanish_2_gram': generate('es', 2, \"Soy\", 20, 5),\n",
        "        'spanish_3_gram': generate('es', 3, \"Soy\", 20, 5),\n",
        "        'french_2_gram': generate('fr', 2, \"Je suis\", 20, 5),\n",
        "        'french_3_gram': generate('fr', 3, \"Je suis\", 20, 5),\n",
        "    }\n",
        "\n",
        "TESTS = [test_preprocess, test_build_lm, test_eval, test_match, test_generate]\n",
        "\n",
        "# Run tests and save results\n",
        "res = {}\n",
        "for test in TESTS:\n",
        "    try:\n",
        "        cur_res = test()\n",
        "        res.update({test.__name__: cur_res})\n",
        "    except Exception as e:\n",
        "        res.update({test.__name__: repr(e)})\n",
        "\n",
        "with open('results.json', 'w') as f:\n",
        "    json.dump(res, f, indent=2)\n",
        "\n",
        "# Download the results.json file\n",
        "#files.download('results.json')\n",
        "########################################"
      ]
    },
    {
      "cell_type": "code",
      "execution_count": 17,
      "metadata": {
        "colab": {
          "base_uri": "https://localhost:8080/"
        },
        "id": "0dEpidyrqXTr",
        "outputId": "771c371b-d07c-4aee-fd4e-8bca0a9d31f3"
      },
      "outputs": [
        {
          "name": "stderr",
          "output_type": "stream",
          "text": [
            "'ls' is not recognized as an internal or external command,\n",
            "operable program or batch file.\n"
          ]
        }
      ],
      "source": [
        "# Show the local files, results.json should be there now and\n",
        "# also downloaded to your local machine\n",
        "!ls -l"
      ]
    },
    {
      "cell_type": "code",
      "execution_count": null,
      "metadata": {
        "id": "UA8l8Vg5hPtr"
      },
      "outputs": [],
      "source": []
    }
  ],
  "metadata": {
    "colab": {
      "provenance": []
    },
    "kernelspec": {
      "display_name": "Python 3",
      "language": "python",
      "name": "python3"
    },
    "language_info": {
      "codemirror_mode": {
        "name": "ipython",
        "version": 3
      },
      "file_extension": ".py",
      "mimetype": "text/x-python",
      "name": "python",
      "nbconvert_exporter": "python",
      "pygments_lexer": "ipython3",
      "version": "3.12.10"
    }
  },
  "nbformat": 4,
  "nbformat_minor": 0
}
